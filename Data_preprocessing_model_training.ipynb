{
 "cells": [
  {
   "cell_type": "code",
   "execution_count": null,
   "id": "0db2371d-0333-4edb-97bd-6bb581eaf958",
   "metadata": {},
   "outputs": [],
   "source": []
  }
 ],
 "metadata": {
  "kernelspec": {
   "display_name": "",
   "name": ""
  },
  "language_info": {
   "name": ""
  }
 },
 "nbformat": 4,
 "nbformat_minor": 5
}
